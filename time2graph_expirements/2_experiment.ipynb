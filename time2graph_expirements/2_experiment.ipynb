{
 "cells": [
  {
   "cell_type": "code",
   "execution_count": 1,
   "id": "9d7929a7-5b9a-4664-a19e-59c5a621f1bf",
   "metadata": {},
   "outputs": [],
   "source": [
    "import xarray as xr\n",
    "import os\n",
    "import matplotlib.pyplot as plt\n",
    "import numpy as np\n",
    "from matplotlib import colorbar, colors\n",
    "from matplotlib.cm import get_cmap\n",
    "from matplotlib.patches import Rectangle\n",
    "import seawater\n",
    "import glob"
   ]
  },
  {
   "cell_type": "code",
   "execution_count": 2,
   "id": "953404a4-4931-4847-a8ae-2cf859e20f4f",
   "metadata": {},
   "outputs": [
    {
     "name": "stdout",
     "output_type": "stream",
     "text": [
      "CPU times: user 585 µs, sys: 654 µs, total: 1.24 ms\n",
      "Wall time: 1.12 ms\n"
     ]
    }
   ],
   "source": [
    "%%time\n",
    "files = glob.glob(\"/expanse/lustre/projects/cos100/slevy1/icelandBGCdata/*.nc\")"
   ]
  },
  {
   "cell_type": "code",
   "execution_count": null,
   "id": "60d8ee56-4c8d-481d-befe-434f8fb4ee19",
   "metadata": {},
   "outputs": [],
   "source": [
    "%%time\n",
    "# files = glob.glob(\"/expanse/lustre/projects/cos100/slevy1/icelandBGCdata/*.nc\")\n",
    "# variable_1 = 'Alk'\n",
    "# variable_2 =  'DIC'\n",
    "# datasets = []\n",
    "# for f in files:\n",
    "#     a = xr.open_dataset(f)\n",
    "#     a_new = a[[variable_1, variable_2]]\n",
    "#     datasets.append(a_new)\n",
    "# x = xr.concat(datasets,dim='time')\n",
    "\n",
    "\n",
    "variable_1 = 'Alk'\n",
    "variable_2 =  'DIC'\n",
    "\n",
    "file_list=os.listdir(r\"/expanse/lustre/projects/cos100/slevy1/icelandBGCdata/\")\n",
    "\n",
    "def preprocess(ds):\n",
    "    return ds[[variable_1,variable_2]]\n",
    "\n",
    "x = xr.open_mfdataset('/expanse/lustre/projects/cos100/slevy1/icelandBGCdata/'+file_list[0], combine='nested', concat_dim=[\"time\"], preprocess=preprocess, chunks={})\n",
    "dslice = x.where(x['Alk'] != 0)\n",
    "dslice = dslice.sel(eta_rho=slice(502,522), xi_rho=slice(595,610)).mean(dim=('time', 'xi_rho', 'eta_rho'))\n",
    "dslice = dslice.load()\n",
    "\n",
    "for i in range (1,len(file_list)):\n",
    "        x = xr.open_mfdataset('/expanse/lustre/projects/cos100/slevy1/icelandBGCdata/'+file_list[i], combine='nested', concat_dim=[\"time\"], preprocess=preprocess, chunks={})\n",
    "        dslice1 = x.where(x['Alk'] != 0)\n",
    "        dslice1 = dslice1.sel(eta_rho=slice(502,522), xi_rho=slice(595,610)).mean(dim=('time', 'xi_rho', 'eta_rho'))\n",
    "        dslice1 = dslice1.load()\n",
    "        dslice = xr.concat([dslice,dslice1],dim='time')\n",
    "    \n",
    "    "
   ]
  },
  {
   "cell_type": "code",
   "execution_count": null,
   "id": "9f5366c3-5a95-4384-9ad3-a4f8619a90f0",
   "metadata": {},
   "outputs": [],
   "source": [
    "# ds = xr.open_mfdataset(\"/expanse/lustre/projects/cos100/slevy1/icelandBGCdata/*.nc\", combine='nested', concat_dim=[\"time\"])\n",
    "# # x=xr.open_mfdataset('/expanse/lustre/projects/cos100/uheede/roms/run/Iceland4_BGC_alk/Iceland4_BGC_alk_rnd.2012062[2-3]150000.nc', combine='nested', concat_dim=[\"time\"])\n",
    "# x = ds[['Alk','DIC']]"
   ]
  },
  {
   "cell_type": "code",
   "execution_count": null,
   "id": "09cd432b-c529-45da-a19a-ab5f46c10b99",
   "metadata": {},
   "outputs": [],
   "source": [
    "# %%time\n",
    "# variable_1 = 'Alk'\n",
    "# variable_2 =  'DIC'\n",
    "# def preprocess(ds):\n",
    "#     return ds[[variable_1,variable_2]]\n",
    "# x = xr.open_mfdataset(\"/expanse/lustre/projects/cos100/slevy1/icelandBGCdata/*.nc\", combine='nested', concat_dim=[\"time\"], preprocess=preprocess, chunks={})\n"
   ]
  },
  {
   "cell_type": "code",
   "execution_count": null,
   "id": "17909bb4-e1e8-449e-b944-62408de813ff",
   "metadata": {},
   "outputs": [],
   "source": [
    "print(x.data_vars)"
   ]
  },
  {
   "cell_type": "code",
   "execution_count": null,
   "id": "310e4bcc-6775-44e0-8eb4-b724347a063b",
   "metadata": {},
   "outputs": [],
   "source": [
    "%%time\n",
    "dslice = x.where(x['Alk'] != 0)\n",
    "dslice = dslice.sel(eta_rho=slice(502,522), xi_rho=slice(595,610)).mean(dim=('time', 'xi_rho', 'eta_rho'))"
   ]
  },
  {
   "cell_type": "code",
   "execution_count": null,
   "id": "fea1973e-de28-40d6-9a99-4827f571766c",
   "metadata": {},
   "outputs": [],
   "source": [
    "%%time\n",
    "alkalinity = dslice['Alk']\n",
    "depth = dslice['depth']\n",
    "DIC = dslice['DIC']\n",
    "\n",
    "# Create a plot of alkalinity vs. depth\n",
    "plt.figure(figsize=(6, 8))\n",
    "plt.plot(alkalinity, depth)\n",
    "\n",
    "\n",
    "plt.xlabel('Alkalinity')\n",
    "plt.ylabel('Depth')\n",
    "plt.title('Alkalinity as a Function of Depth')\n",
    "plt.show\n",
    "\n",
    "plt.figure(figsize=(6, 8))\n",
    "plt.plot(DIC, depth)\n",
    "\n",
    "plt.xlabel('DIC')\n",
    "plt.ylabel('Depth')\n",
    "plt.title('DIC as a Function of Depth')\n",
    "plt.show"
   ]
  },
  {
   "cell_type": "code",
   "execution_count": null,
   "id": "2a89bbd0-f5d4-490f-b010-f14a486c62c8",
   "metadata": {},
   "outputs": [],
   "source": [
    "%%time\n",
    "top = x.sel(depth=0).mean(dim='time')\n",
    "top = top.where(top['Alk'] != 0)"
   ]
  },
  {
   "cell_type": "code",
   "execution_count": null,
   "id": "87a69b64-5cf3-4217-a143-01ee52697739",
   "metadata": {},
   "outputs": [],
   "source": [
    "%%time\n",
    "alk_surface = top['Alk']\n",
    "dic_surface = top['DIC']\n",
    "\n",
    "rectangle_alk = Rectangle((595, 502), 15, 20, linewidth=1, edgecolor='r', facecolor='none')\n",
    "\n",
    "# Create the plot\n",
    "plt.figure(figsize=(10, 10))\n",
    "alk_surface.plot(x='xi_rho', y='eta_rho')\n",
    "plt.title('Surface Alkalinity (Alk) Distribution')\n",
    "plt.xlabel('xi_rho')\n",
    "plt.ylabel('eta_rho')\n",
    "plt.gca().add_patch(rectangle_alk)\n",
    "plt.show()\n",
    "\n",
    "rectangle_dic = Rectangle((595, 502), 15, 20, linewidth=1, edgecolor='r', facecolor='none')\n",
    "\n",
    "# Create the plot\n",
    "plt.figure(figsize=(10, 10))\n",
    "dic_surface.plot(x='xi_rho', y='eta_rho')\n",
    "plt.title('Surface DIC Distribution')\n",
    "plt.xlabel('xi_rho')\n",
    "plt.ylabel('eta_rho')\n",
    "plt.gca().add_patch(rectangle_dic)\n",
    "plt.show()\n",
    "\n",
    "alk_flat = alk_surface.values.flatten()\n",
    "alk_flat_clean = alk_flat[~np.isnan(alk_flat)]\n",
    "dic_flat = dic_surface.values.flatten()\n",
    "dic_flat_clean = dic_flat[~np.isnan(dic_flat)]\n",
    "\n",
    "data_to_plot = [alk_flat_clean, dic_flat_clean]\n",
    "\n",
    "plt.figure(figsize=(10, 6))\n",
    "plt.boxplot(data_to_plot, labels=['Alk', 'DIC'])\n",
    "plt.title('Box Plot of Surface Alkalinity (Alk) and Dissolved Inorganic Carbon (DIC)')\n",
    "plt.ylabel('Value')\n",
    "plt.show()"
   ]
  },
  {
   "cell_type": "code",
   "execution_count": null,
   "id": "ad13bec8-ed61-4398-a58c-fe759f9d6ec1",
   "metadata": {},
   "outputs": [],
   "source": []
  }
 ],
 "metadata": {
  "kernelspec": {
   "display_name": "Python 3 (ipykernel)",
   "language": "python",
   "name": "python3"
  },
  "language_info": {
   "codemirror_mode": {
    "name": "ipython",
    "version": 3
   },
   "file_extension": ".py",
   "mimetype": "text/x-python",
   "name": "python",
   "nbconvert_exporter": "python",
   "pygments_lexer": "ipython3",
   "version": "3.12.2"
  }
 },
 "nbformat": 4,
 "nbformat_minor": 5
}
