{
 "cells": [
  {
   "cell_type": "code",
   "execution_count": 1,
   "id": "9d7929a7-5b9a-4664-a19e-59c5a621f1bf",
   "metadata": {},
   "outputs": [],
   "source": [
    "import xarray as xr\n",
    "import os\n",
    "import matplotlib.pyplot as plt\n",
    "import numpy as np\n",
    "from matplotlib import colorbar, colors\n",
    "from matplotlib.cm import get_cmap\n",
    "from matplotlib.patches import Rectangle\n",
    "import seawater"
   ]
  },
  {
   "cell_type": "code",
   "execution_count": 2,
   "id": "d543a176-2af7-4dcb-9bc5-826076541045",
   "metadata": {},
   "outputs": [
    {
     "name": "stdout",
     "output_type": "stream",
     "text": [
      "CPU times: user 1.08 s, sys: 1.14 s, total: 2.21 s\n",
      "Wall time: 2.57 s\n"
     ]
    }
   ],
   "source": [
    "%%time\n",
    "ds = xr.open_mfdataset(\"/expanse/lustre/projects/cos100/slevy1/icelandBGCdata/*.nc\", combine='nested', concat_dim=[\"time\"])\n",
    "x = ds[['Alk','DIC']]"
   ]
  },
  {
   "cell_type": "code",
   "execution_count": null,
   "id": "fea1973e-de28-40d6-9a99-4827f571766c",
   "metadata": {},
   "outputs": [],
   "source": [
    "%%time\n",
    "dslice = x.sel(eta_rho=slice(502,522), xi_rho=slice(595,610)).mean(dim=('time', 'xi_rho', 'eta_rho'))\n",
    "dslice = dslice.where(x['Alk'] != 0)\n",
    "\n",
    "alkalinity = dslice['Alk']\n",
    "depth = dslice['depth']\n",
    "DIC = dslice['DIC']\n",
    "\n",
    "# Create a plot of alkalinity vs. depth\n",
    "plt.figure(figsize=(6, 8))\n",
    "plt.plot(alkalinity, depth)\n",
    "\n",
    "\n",
    "plt.xlabel('Alkalinity')\n",
    "plt.ylabel('Depth')\n",
    "plt.title('Alkalinity as a Function of Depth')\n",
    "plt.show\n",
    "\n",
    "plt.figure(figsize=(6, 8))\n",
    "plt.plot(DIC, depth)\n",
    "\n",
    "plt.xlabel('DIC')\n",
    "plt.ylabel('Depth')\n",
    "plt.title('DIC as a Function of Depth')\n",
    "plt.show"
   ]
  },
  {
   "cell_type": "code",
   "execution_count": null,
   "id": "87a69b64-5cf3-4217-a143-01ee52697739",
   "metadata": {},
   "outputs": [],
   "source": [
    "%%time\n",
    "\n",
    "top = x.sel(depth=0).mean(dim='time')\n",
    "top = top.where(top['Alk'] != 0)\n",
    "\n",
    "alk_surface = top['Alk']\n",
    "dic_surface = top['DIC']\n",
    "\n",
    "rectangle_alk = Rectangle((595, 502), 15, 20, linewidth=1, edgecolor='r', facecolor='none')\n",
    "\n",
    "# Create the plot\n",
    "plt.figure(figsize=(10, 10))\n",
    "alk_surface.plot(x='xi_rho', y='eta_rho')\n",
    "plt.title('Surface Alkalinity (Alk) Distribution')\n",
    "plt.xlabel('xi_rho')\n",
    "plt.ylabel('eta_rho')\n",
    "plt.gca().add_patch(rectangle_alk)\n",
    "plt.show()\n",
    "\n",
    "rectangle_dic = Rectangle((595, 502), 15, 20, linewidth=1, edgecolor='r', facecolor='none')\n",
    "\n",
    "# Create the plot\n",
    "plt.figure(figsize=(10, 10))\n",
    "dic_surface.plot(x='xi_rho', y='eta_rho')\n",
    "plt.title('Surface DIC Distribution')\n",
    "plt.xlabel('xi_rho')\n",
    "plt.ylabel('eta_rho')\n",
    "plt.gca().add_patch(rectangle_dic)\n",
    "plt.show()\n",
    "\n",
    "alk_flat = alk_surface.values.flatten()\n",
    "alk_flat_clean = alk_flat[~np.isnan(alk_flat)]\n",
    "dic_flat = dic_surface.values.flatten()\n",
    "dic_flat_clean = dic_flat[~np.isnan(dic_flat)]\n",
    "\n",
    "data_to_plot = [alk_flat_clean, dic_flat_clean]\n",
    "\n",
    "plt.figure(figsize=(10, 6))\n",
    "plt.boxplot(data_to_plot, labels=['Alk', 'DIC'])\n",
    "plt.title('Box Plot of Surface Alkalinity (Alk) and Dissolved Inorganic Carbon (DIC)')\n",
    "plt.ylabel('Value')\n",
    "plt.show()"
   ]
  },
  {
   "cell_type": "code",
   "execution_count": null,
   "id": "ad13bec8-ed61-4398-a58c-fe759f9d6ec1",
   "metadata": {},
   "outputs": [],
   "source": []
  }
 ],
 "metadata": {
  "kernelspec": {
   "display_name": "Python 3 (ipykernel)",
   "language": "python",
   "name": "python3"
  },
  "language_info": {
   "codemirror_mode": {
    "name": "ipython",
    "version": 3
   },
   "file_extension": ".py",
   "mimetype": "text/x-python",
   "name": "python",
   "nbconvert_exporter": "python",
   "pygments_lexer": "ipython3",
   "version": "3.12.2"
  }
 },
 "nbformat": 4,
 "nbformat_minor": 5
}
